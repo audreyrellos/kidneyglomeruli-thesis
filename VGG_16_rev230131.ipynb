{
  "cells": [
    {
      "cell_type": "code",
      "source": [
        "# required libraries & dataset\n",
        "\n",
        "!curl -L \"https://www.dropbox.com/s/ypvbhkgt4sb40sy/dataset_b.zip?dl=0\" > dataset_b.zip; unzip dataset_b.zip; rm dataset_b.zip\n",
        "!pip install livelossplot"
      ],
      "metadata": {
        "id": "-h1wa_DzwaMl"
      },
      "execution_count": null,
      "outputs": []
    },
    {
      "cell_type": "code",
      "execution_count": null,
      "metadata": {
        "id": "j55wJXfYYVH6"
      },
      "outputs": [],
      "source": [
        "#Importing necessary libraries\n",
        "\n",
        "import keras\n",
        "from keras.models import Model\n",
        "from keras.layers import Input, Lambda, Dense, Flatten\n",
        "from tensorflow.keras import layers, models\n",
        "from keras.layers import Conv2D, MaxPool2D, BatchNormalization\n",
        "from keras import optimizers\n",
        "from keras.preprocessing import image\n",
        "from keras.preprocessing.image import ImageDataGenerator\n",
        "from keras.callbacks import ModelCheckpoint, EarlyStopping\n",
        "import keras.callbacks\n",
        "import tensorflow as tf"
      ]
    },
    {
      "cell_type": "code",
      "execution_count": null,
      "metadata": {
        "id": "3YTnEG2FEuOB"
      },
      "outputs": [],
      "source": [
        "#Image Size\n",
        "\n",
        "IMAGE_SIZE= [224,224]\n",
        "input_shape = IMAGE_SIZE + [3]\n",
        "seed = 1432\n",
        "class_mode = 'binary'\n",
        "n_classes = 1"
      ]
    },
    {
      "cell_type": "code",
      "execution_count": null,
      "metadata": {
        "id": "NkPdzVC0YrNY"
      },
      "outputs": [],
      "source": [
        "#Setting TPU or CPU/GPU strategy\n",
        "try:\n",
        "    tpu = tf.distribute.cluster_resolver.TPUClusterResolver.connect()\n",
        "    print(\"Device:\", tpu.master())\n",
        "    strategy = tf.distribute.TPUStrategy(tpu)\n",
        "except ValueError:\n",
        "    print(\"Using CPU/GPU strategy\")\n",
        "    strategy = tf.distribute.MirroredStrategy()"
      ]
    },
    {
      "cell_type": "code",
      "execution_count": null,
      "metadata": {
        "id": "dz1nJJk7Yr-X"
      },
      "outputs": [],
      "source": [
        "# Define training and validation directories.\n",
        "TRAIN_DIR = \"/content/train\"\n",
        "TEST_DIR = \"/content/test\"\n",
        "VALID_DIR = \"/content/valid\"\n",
        "batch_size = 16"
      ]
    },
    {
      "cell_type": "code",
      "execution_count": null,
      "metadata": {
        "id": "cayAjEk6Yuci"
      },
      "outputs": [],
      "source": [
        "from tensorflow.keras.preprocessing.image import ImageDataGenerator\n",
        "\n",
        "train_datagen = ImageDataGenerator(\n",
        "      rescale=1./255)\n",
        "\n",
        "test_datagen = ImageDataGenerator(rescale=1./255)\n",
        "\n",
        "train_generator = train_datagen.flow_from_directory(\n",
        "        TRAIN_DIR,\n",
        "        target_size=IMAGE_SIZE,\n",
        "        batch_size=batch_size,\n",
        "        seed=seed,\n",
        "        class_mode='binary')\n",
        "\n",
        "validation_generator = test_datagen.flow_from_directory(\n",
        "        VALID_DIR,\n",
        "        target_size=IMAGE_SIZE,\n",
        "        batch_size=batch_size,\n",
        "        seed=seed,\n",
        "        class_mode=class_mode)\n",
        "\n",
        "classnames = train_generator.class_indices\n",
        "\n",
        "print(classnames)"
      ]
    },
    {
      "cell_type": "code",
      "execution_count": null,
      "metadata": {
        "id": "7P527NkoYwST"
      },
      "outputs": [],
      "source": [
        "#Image augmentation\n",
        "from tensorflow.keras.models import Sequential\n",
        "from tensorflow.keras import layers\n",
        "\n",
        "img_augmentation = Sequential(\n",
        "    [\n",
        "        layers.RandomRotation(factor=0.15),\n",
        "        layers.RandomTranslation(height_factor=0.1, width_factor=0.1),\n",
        "        layers.RandomFlip(),\n",
        "        layers.RandomContrast(factor=0.1),\n",
        "    ],\n",
        "    name=\"img_augmentation\",\n",
        ")"
      ]
    },
    {
      "cell_type": "code",
      "execution_count": null,
      "metadata": {
        "id": "wXOiuxXnEGPL"
      },
      "outputs": [],
      "source": [
        "#Loading pretrained model\n",
        "\n",
        "from tensorflow.keras.applications.vgg16 import VGG16, preprocess_input\n",
        "vggmodel = VGG16(input_shape=input_shape, weights='imagenet', include_top=False)"
      ]
    },
    {
      "cell_type": "code",
      "execution_count": null,
      "metadata": {
        "id": "j-rUx8QpER00"
      },
      "outputs": [],
      "source": [
        "vggmodel.input"
      ]
    },
    {
      "cell_type": "code",
      "source": [
        "print('Number of trainable units:', len(vggmodel.trainable_weights))"
      ],
      "metadata": {
        "id": "sHPFQwZRY_6x"
      },
      "execution_count": null,
      "outputs": []
    },
    {
      "cell_type": "code",
      "execution_count": null,
      "metadata": {
        "id": "cGnWieo3E0gO"
      },
      "outputs": [],
      "source": [
        "#Freezing pre-trained layers\n",
        "\n",
        "for layers in (vggmodel.layers)[:19]:\n",
        "    layers.trainable = False\n",
        "    \n",
        "print('Number of trainable units:', len(vggmodel.trainable_weights))"
      ]
    },
    {
      "cell_type": "code",
      "execution_count": null,
      "metadata": {
        "id": "d30Hat0KE2ih"
      },
      "outputs": [],
      "source": [
        "#Modifying last layer\n",
        "\n",
        "X= Flatten()(vggmodel.output)\n",
        "predictions = Dense(1, activation=\"sigmoid\")(X)\n",
        "VGG16_final = Model(vggmodel.input, predictions)"
      ]
    },
    {
      "cell_type": "code",
      "execution_count": null,
      "metadata": {
        "id": "Gb4ZOFSZE4aL"
      },
      "outputs": [],
      "source": [
        "#Summary\n",
        "\n",
        "VGG16_final.summary()"
      ]
    },
    {
      "cell_type": "code",
      "execution_count": null,
      "metadata": {
        "id": "Pl9d8ZMWFHZu"
      },
      "outputs": [],
      "source": [
        "#Compilation\n",
        "\n",
        "learning_rate = 0.0001\n",
        "epochs= 100 \n",
        "\n",
        "with strategy.scope():\n",
        "    inputs = layers.Input(shape=(input_shape))\n",
        "    x = img_augmentation(inputs)\n",
        "    outputs = VGG16(include_top=True, weights=None, classes=1)(x)\n",
        "\n",
        "VGG16_final.summary()\n",
        "\n",
        "VGG16_final.compile(\n",
        "    optimizer=\"adam\",\n",
        "    loss='binary_crossentropy',\n",
        "    metrics=['accuracy',\n",
        "             tf.keras.metrics.Precision(),\n",
        "             tf.keras.metrics.Recall()]\n",
        "             )"
      ]
    },
    {
      "cell_type": "code",
      "execution_count": null,
      "metadata": {
        "id": "Lm1XRBFA_y8K"
      },
      "outputs": [],
      "source": [
        "#Training\n",
        "\n",
        "from livelossplot import PlotLossesKeras\n",
        "from livelossplot.keras import PlotLossesCallback\n",
        "\n",
        "plot_loss_1 = PlotLossesCallback()\n",
        "\n",
        "from keras.callbacks import ModelCheckpoint, EarlyStopping\n",
        "\n",
        "checkpoint = ModelCheckpoint(\"VGG16_rev230131.h5\",\n",
        "                             monitor='val_loss',\n",
        "                             verbose=1,\n",
        "                             save_best_only=False,\n",
        "                             save_weights_only=False,\n",
        "                             mode='auto',\n",
        "                             save_freq=1)\n",
        "\n",
        "early = EarlyStopping(monitor='val_loss',\n",
        "                      min_delta=0,\n",
        "                      patience=10,\n",
        "                      verbose=1, \n",
        "                      restore_best_weights=True,\n",
        "                      mode='auto')"
      ]
    },
    {
      "cell_type": "code",
      "execution_count": null,
      "metadata": {
        "id": "Io6SKq9a_4GB"
      },
      "outputs": [],
      "source": [
        "%%time\n",
        "\n",
        "vgg_hist=VGG16_final.fit(train_generator,\n",
        "                        epochs=epochs,\n",
        "                        validation_data=validation_generator, \n",
        "                        callbacks= [checkpoint, early, plot_loss_1],\n",
        "                        verbose=1)"
      ]
    },
    {
      "cell_type": "code",
      "source": [
        "\"\"\"\n",
        "from google.colab import files\n",
        "files.download('/content/VGG16_rev230131.h5')\n",
        "\"\"\""
      ],
      "metadata": {
        "id": "Mi_St852jhHW"
      },
      "execution_count": null,
      "outputs": []
    },
    {
      "cell_type": "markdown",
      "metadata": {
        "id": "zd_XqyYFnFac"
      },
      "source": []
    }
  ],
  "metadata": {
    "colab": {
      "provenance": []
    },
    "gpuClass": "premium",
    "kernelspec": {
      "display_name": "Python 3",
      "name": "python3"
    },
    "language_info": {
      "name": "python"
    }
  },
  "nbformat": 4,
  "nbformat_minor": 0
}
