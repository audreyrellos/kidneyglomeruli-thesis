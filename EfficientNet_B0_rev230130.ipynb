{
  "cells": [
    {
      "cell_type": "code",
      "source": [
        "# required libraries & dataset\n",
        "\n",
        "#!curl -L \"https://www.dropbox.com/s/ypvbhkgt4sb40sy/dataset_b.zip?dl=0\" > dataset_b.zip; unzip dataset_b.zip; rm dataset_b.zip\n",
        "#!pip install livelossplot"
      ],
      "metadata": {
        "id": "_fUDcrvFJF18"
      },
      "id": "_fUDcrvFJF18",
      "execution_count": null,
      "outputs": []
    },
    {
      "cell_type": "code",
      "execution_count": null,
      "metadata": {
        "id": "1d818b5f-63f0-4b81-892e-a10df056520f"
      },
      "outputs": [],
      "source": [
        "# Importing dependencies\n",
        "\n",
        "import tensorflow as tf\n",
        "import keras.metrics\n",
        "import os, os.path\n",
        "import numpy as np\n",
        "from tensorflow.keras import models\n",
        "from tensorflow.keras import layers\n",
        "from tensorflow.keras import optimizers\n",
        "from tensorflow.keras import metrics"
      ],
      "id": "1d818b5f-63f0-4b81-892e-a10df056520f"
    },
    {
      "cell_type": "code",
      "execution_count": null,
      "metadata": {
        "id": "b895549a-7e87-4c98-8cac-cc89ea5ea2ca"
      },
      "outputs": [],
      "source": [
        "# Image size and Input shape \n",
        "IMG_SIZE = 224 #EfficientNet-B0 size\n",
        "width = 224\n",
        "height = 224\n",
        "input_shape = (height, width, 3)\n",
        "seed = 1432\n",
        "class_mode = 'binary'"
      ],
      "id": "b895549a-7e87-4c98-8cac-cc89ea5ea2ca"
    },
    {
      "cell_type": "code",
      "execution_count": null,
      "metadata": {
        "id": "017f5a58-8989-43d9-9129-bd9f2c49adaf"
      },
      "outputs": [],
      "source": [
        "#Setting TPU or CPU/GPU strategy\n",
        "try:\n",
        "    tpu = tf.distribute.cluster_resolver.TPUClusterResolver.connect()\n",
        "    print(\"Device:\", tpu.master())\n",
        "    strategy = tf.distribute.TPUStrategy(tpu)\n",
        "except ValueError:\n",
        "    print(\"Using CPU/GPU strategy\")\n",
        "    strategy = tf.distribute.MirroredStrategy()"
      ],
      "id": "017f5a58-8989-43d9-9129-bd9f2c49adaf"
    },
    {
      "cell_type": "code",
      "execution_count": null,
      "metadata": {
        "id": "6f423549-58e8-4820-a555-513ecc03201a"
      },
      "outputs": [],
      "source": [
        "# Setting dataset directory. Change directory whenever necessary\n",
        "train_dir ='train' \n",
        "valid_dir = 'valid'\n",
        "test_dir = 'test' \n",
        "batch_size = 16"
      ],
      "id": "6f423549-58e8-4820-a555-513ecc03201a"
    },
    {
      "cell_type": "code",
      "source": [
        "#Image augmentation\n",
        "\n",
        "from tensorflow.keras.models import Sequential\n",
        "from tensorflow.keras import layers\n",
        "\n",
        "img_augmentation = Sequential(\n",
        "    [\n",
        "        layers.RandomRotation(factor=0.15),\n",
        "        layers.RandomTranslation(height_factor=0.1, width_factor=0.1),\n",
        "        layers.RandomFlip(),\n",
        "        layers.RandomContrast(factor=0.1),\n",
        "    ],\n",
        "    name=\"img_augmentation\",\n",
        ")"
      ],
      "metadata": {
        "id": "H5p6h8Tt8_95"
      },
      "id": "H5p6h8Tt8_95",
      "execution_count": null,
      "outputs": []
    },
    {
      "cell_type": "code",
      "execution_count": null,
      "metadata": {
        "id": "32f494cf-ee40-4eee-aea0-80c805fe37e1"
      },
      "outputs": [],
      "source": [
        "#Additional data augmentation\n",
        "\n",
        "from tensorflow.keras.preprocessing.image import ImageDataGenerator\n",
        "\n",
        "train_data = ImageDataGenerator(rescale=1./255)\n",
        "\n",
        "test_data = ImageDataGenerator(rescale=1./255)\n",
        "\n",
        "#One-hot encoding data\n",
        "\n",
        "train_generator = train_data.flow_from_directory(\n",
        "        train_dir,\n",
        "        target_size=(height, width),\n",
        "        seed=seed,\n",
        "        batch_size=batch_size,\n",
        "        class_mode=class_mode)\n",
        "\n",
        "validation_generator = test_data.flow_from_directory(\n",
        "        valid_dir,\n",
        "        target_size=(height, width),\n",
        "        seed=seed,\n",
        "        batch_size=batch_size,\n",
        "        class_mode=class_mode)\n",
        "\n",
        "classnames = train_generator.class_indices\n",
        "\n",
        "print(classnames)"
      ],
      "id": "32f494cf-ee40-4eee-aea0-80c805fe37e1"
    },
    {
      "cell_type": "code",
      "execution_count": null,
      "metadata": {
        "id": "Tp9t7GuHlcPq"
      },
      "outputs": [],
      "source": [
        "#EfficientNet-B0 Model\n",
        "\n",
        "from tensorflow.keras.applications import EfficientNetB0\n",
        "enmodel = EfficientNetB0(weights='imagenet', include_top=False, input_shape=input_shape)\n",
        "enmodel.input"
      ],
      "id": "Tp9t7GuHlcPq"
    },
    {
      "cell_type": "code",
      "execution_count": null,
      "metadata": {
        "id": "d88f345b-348e-464d-825f-d700eec4712e"
      },
      "outputs": [],
      "source": [
        "#Setting epochs and dropout rate\n",
        "epochs = 100\n",
        "dropout_rate = 0.2"
      ],
      "id": "d88f345b-348e-464d-825f-d700eec4712e"
    },
    {
      "cell_type": "code",
      "execution_count": null,
      "metadata": {
        "id": "89da7b14-c3a7-415c-a40d-747f226e85a5"
      },
      "outputs": [],
      "source": [
        "# Adding dense layers, needs rework\n",
        "model = models.Sequential()\n",
        "model.add(enmodel)\n",
        "model.add(layers.GlobalMaxPooling2D(name=\"gap\"))\n",
        "model.add(layers.Flatten(name=\"flatten\"))\n",
        "if dropout_rate > 0:\n",
        "    model.add(layers.Dropout(dropout_rate, name=\"dropout_out\"))\n",
        "model.add(layers.Dense(1, activation='sigmoid'))"
      ],
      "id": "89da7b14-c3a7-415c-a40d-747f226e85a5"
    },
    {
      "cell_type": "code",
      "execution_count": null,
      "metadata": {
        "id": "7156d68f-ef9b-49d8-8c10-2c724174c0d4"
      },
      "outputs": [],
      "source": [
        "enmodel.trainable = False\n",
        "model.summary()\n",
        "print('Number of trainable units:', len(model.trainable_weights))"
      ],
      "id": "7156d68f-ef9b-49d8-8c10-2c724174c0d4"
    },
    {
      "cell_type": "code",
      "execution_count": null,
      "metadata": {
        "id": "4cd4af05-5dd1-46f8-b049-523c9ccaaa16"
      },
      "outputs": [],
      "source": [
        "# Compiling the model\n",
        "with strategy.scope():\n",
        "    input = layers.Input(shape=(input_shape))\n",
        "    x = img_augmentation(input)\n",
        "    output = EfficientNetB0(include_top=True, weights=None, classes=1)(x)\n",
        "\n",
        "    model = tf.keras.Model(input, output)\n",
        "    model.compile(\n",
        "          optimizer=\"adam\", loss=\"binary_crossentropy\", metrics=['accuracy',\n",
        "             tf.keras.metrics.Precision(),\n",
        "             tf.keras.metrics.Recall()])\n",
        "model.summary()"
      ],
      "id": "4cd4af05-5dd1-46f8-b049-523c9ccaaa16"
    },
    {
      "cell_type": "code",
      "execution_count": null,
      "metadata": {
        "id": "EKWb3wAZhly_"
      },
      "outputs": [],
      "source": [
        "#Training\n",
        "\n",
        "from livelossplot import PlotLossesKeras\n",
        "from livelossplot.keras import PlotLossesCallback\n",
        "\n",
        "plot_loss_1 = PlotLossesCallback()\n",
        "\n",
        "from keras.callbacks import ModelCheckpoint, EarlyStopping\n",
        "\n",
        "checkpoint = ModelCheckpoint(\"efficientnet_rev230130.h5\",\n",
        "                             monitor='val_loss',\n",
        "                             verbose=1,\n",
        "                             save_best_only=False,\n",
        "                             save_weights_only=False,\n",
        "                             mode='auto',\n",
        "                             save_freq=1)\n",
        "\n",
        "early = EarlyStopping(monitor='val_loss',\n",
        "                      min_delta=0,\n",
        "                      patience=10,\n",
        "                      verbose=1, \n",
        "                      restore_best_weights=True,\n",
        "                      mode='auto')"
      ],
      "id": "EKWb3wAZhly_"
    },
    {
      "cell_type": "code",
      "execution_count": null,
      "metadata": {
        "id": "ae0cc850-c1ec-4cb0-8989-f39b4b956021"
      },
      "outputs": [],
      "source": [
        "%%time\n",
        "\n",
        "enmodel_hist=model.fit(train_generator,\n",
        "                        epochs=epochs,\n",
        "                        validation_data=validation_generator, \n",
        "                        callbacks= [checkpoint, early, plot_loss_1],\n",
        "                        verbose=1)"
      ],
      "id": "ae0cc850-c1ec-4cb0-8989-f39b4b956021"
    },
    {
      "cell_type": "code",
      "source": [
        "\"\"\"\n",
        "# Download model if run from colab, else remove\n",
        "\n",
        "from google.colab import files\n",
        "\n",
        "files.download('/content/efficientnet_rev230130.h5')\n",
        "\"\"\""
      ],
      "metadata": {
        "id": "0LBG3i1CERfy"
      },
      "id": "0LBG3i1CERfy",
      "execution_count": null,
      "outputs": []
    }
  ],
  "metadata": {
    "colab": {
      "provenance": []
    },
    "gpuClass": "standard",
    "kernelspec": {
      "display_name": "default:Python",
      "language": "python",
      "name": "conda-env-default-py"
    },
    "language_info": {
      "codemirror_mode": {
        "name": "ipython",
        "version": 3
      },
      "file_extension": ".py",
      "mimetype": "text/x-python",
      "name": "python",
      "nbconvert_exporter": "python",
      "pygments_lexer": "ipython3",
      "version": "3.9.13"
    }
  },
  "nbformat": 4,
  "nbformat_minor": 5
}
